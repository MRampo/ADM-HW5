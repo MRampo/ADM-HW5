{
 "cells": [
  {
   "cell_type": "code",
   "execution_count": null,
   "metadata": {
    "collapsed": true
   },
   "outputs": [],
   "source": [
    "def functionality_2 (graph,metric, node, n_heroes = None):\n",
    "    global whole_output\n",
    "\n",
    "    if n_heroes is not None:\n",
    "        n = findNHeroes(df_edges,n_heroes)\n",
    "\n",
    "    if metric == 'Betweenness':\n",
    "        betweenness = nx.betweenness_centrality(graph,k=10, seed=1234, weight='weight')\n",
    "\n",
    "        output = pd.DataFrame.from_dict(betweenness, orient='index',\n",
    "                               columns=['Betweenness']).sort_values(by='Betweenness', ascending=False)\n",
    "        try:\n",
    "            whole_output = output.loc[n,:].sort_values(by='Betweenness',ascending=False)\n",
    "            return output.loc[node,:], whole_output\n",
    "        except:\n",
    "            return output.loc[node,:], output\n",
    "    if metric == 'ClosenessCentrality':\n",
    "        closeness = nx.closeness_centrality(graph,distance='weight')\n",
    "        output = pd.DataFrame.from_dict(closeness, orient='index',\n",
    "                               columns=['Closeness']).sort_values(by='Closeness', ascending=False)\n",
    "        try:\n",
    "            whole_output = output.loc[n,:].sort_values(by='Closeness',ascending=False)\n",
    "            return output.loc[node,:], whole_output\n",
    "        except:\n",
    "            return output.loc[node,:], output\n",
    "\n",
    "    if metric == 'PageRank':\n",
    "        pagerank = nx.pagerank(graph, weight='weight')\n",
    "        output = pd.DataFrame.from_dict(pagerank, orient='index',\n",
    "                               columns=['PageRank']).sort_values(by='PageRank', ascending=False)\n",
    "        try:\n",
    "            whole_output = output.loc[n,:].sort_values(by='PageRank',ascending=False)\n",
    "            return output.loc[node,:], whole_output\n",
    "        except:\n",
    "            return output.loc[node,:], output\n",
    "\n",
    "    if metric == 'DegreeCentrality':\n",
    "        degree = nx.degree_centrality(graph)\n",
    "        output = pd.DataFrame.from_dict(degree, orient='index',\n",
    "                               columns=['DegreeCentrality']).sort_values(by='DegreeCentrality', ascending=False)\n",
    "        try:\n",
    "            whole_output = output.loc[n,:].sort_values(by='DegreeCentrality',ascending=False)\n",
    "            return output.loc[node,:], whole_output\n",
    "        except:\n",
    "            return output.loc[node,:], output"
   ]
  },
  {
   "cell_type": "code",
   "execution_count": null,
   "outputs": [],
   "source": [
    "def visualization_2(graph, metric, node, n_heroes=None):\n",
    "\n",
    "    given_node, out = functionality_2(graph,metric,node,n_heroes)\n",
    "\n",
    "    df = pd.DataFrame(given_node)\n",
    "\n",
    "    df['Average'+ f' {metric} '+'measure'] = float(out.values.mean())\n",
    "\n",
    "    return df"
   ],
   "metadata": {
    "collapsed": false
   }
  },
  {
   "cell_type": "code",
   "execution_count": null,
   "outputs": [],
   "source": [
    "def functionality_4(graph,source,target,top_n = None):\n",
    "    if top_n is not None:\n",
    "        n = set(findNHeroes(e, top_n)) ## denoting the top N heroes that our algorithm should be considered\n",
    "\n",
    "    G = graph.copy()\n",
    "    F = nx.subgraph(G,n) ## creating the subgraph with the top N heroes\n",
    "    H = F.copy()\n",
    "\n",
    "    cutset = nx.minimum_edge_cut(H,s=source,t=target) ## the set of the minimum number of edges to disconnect the source from the target\n",
    "    H.remove_edges_from(cutset) ## remove the cutset from the original graph\n",
    "\n",
    "\n",
    "\n",
    "    sub_source_edges = set(bfs_unweighted(H,source = source))\n",
    "    sub_target_edges = set(bfs_unweighted(H,source = target))\n",
    "\n",
    "    sub_source, sub_target = nx.Graph(), nx.Graph()\n",
    "    sub_source.add_edges_from(sub_source_edges)\n",
    "    sub_target.add_edges_from(sub_target_edges)\n",
    "\n",
    "    return (cutset),F, H, sub_source, sub_target"
   ],
   "metadata": {
    "collapsed": false
   }
  },
  {
   "cell_type": "code",
   "execution_count": null,
   "outputs": [],
   "source": [
    "def visualization_4(graph,source,target,top_n = None):\n",
    "    cutset,G_connected, G_disconnected, sub_source, sub_target = functionality_4(graph,source,target,top_n)\n",
    "    cut = nx.Graph()\n",
    "    cut.add_edges_from(cutset)\n",
    "    H = nx.difference(G_connected,cut)\n",
    "\n",
    "    print(f'The minimum number of the links that should be disconnected in order to get two disconnected sub-graphs is {len(cutset)}')\n",
    "\n",
    "    fig, (ax1, ax2) = plt.subplots(2, 1, figsize=(15, 15))\n",
    "    pos = nx.circular_layout(G_connected)\n",
    "    nodes = ['red' if (node == source or node == target) else 'blue' for node in G_connected.nodes()]\n",
    "    nx.draw(G_connected,pos,with_labels=True,ax=ax1,node_color = nodes)\n",
    "    nx.draw(H,pos,with_labels=True,ax=ax2, node_color = nodes)\n",
    "    ax1.set_title('Plot of the original graph', fontweight = 'bold', size = 15)\n",
    "    ax2.set_title('Plot of the graph after removing the links between the two nodes identified', fontweight = 'bold', size = 15)\n",
    "    plt.show()"
   ],
   "metadata": {
    "collapsed": false
   }
  },
  {
   "cell_type": "code",
   "execution_count": null,
   "outputs": [],
   "source": [
    "visualization_4(G,'IRON MAN/TONY STARK','HULK/DR. ROBERT BRUC',top_n=15)"
   ],
   "metadata": {
    "collapsed": false
   }
  },
  {
   "cell_type": "code",
   "execution_count": null,
   "outputs": [],
   "source": [
    "def bfs_weighted(graph,source):\n",
    "\n",
    "    Q = Queue()\n",
    "    graph_dict = nx.to_dict_of_dicts(graph)\n",
    "    visited = {key: False for key in graph_dict.keys()}\n",
    "\n",
    "    Q.put((source,source,0))\n",
    "    visited[source] = True\n",
    "    bfs_edges = list()\n",
    "\n",
    "    while Q.empty()==False:\n",
    "            s,path,weight = Q.get(0)\n",
    "\n",
    "            if isinstance(weight,dict):\n",
    "                bfs_edges.append((path,s,weight['weight']))\n",
    "\n",
    "            for neighbor,weight in graph_dict[s].items():\n",
    "                if visited[neighbor] == False:\n",
    "                    Q.put((neighbor,s,weight))\n",
    "                    visited[neighbor] = True\n",
    "\n",
    "\n",
    "    return bfs_edges"
   ],
   "metadata": {
    "collapsed": false
   }
  },
  {
   "cell_type": "code",
   "execution_count": null,
   "outputs": [],
   "source": [
    "def bfs_unweighted(graph,source):\n",
    "    Q = Queue()\n",
    "    graph_dict = nx.to_dict_of_dicts(graph)\n",
    "    visited = {key: False for key in graph_dict.keys()}\n",
    "\n",
    "    Q.put((source,source))\n",
    "    visited[source] = True\n",
    "    bfs_edges = list()\n",
    "    try:\n",
    "        while Q:\n",
    "            s,path = Q.get(0)\n",
    "\n",
    "\n",
    "            if s != source:\n",
    "                bfs_edges.append((path,s))\n",
    "\n",
    "            for neighbor in graph_dict[s].keys():\n",
    "                if visited[neighbor] == False:\n",
    "                    Q.put((neighbor,s))\n",
    "                    visited[neighbor] = True\n",
    "\n",
    "    except:\n",
    "        pass\n",
    "    return bfs_edges\n"
   ],
   "metadata": {
    "collapsed": false
   }
  }
 ],
 "metadata": {
  "kernelspec": {
   "display_name": "Python 3",
   "language": "python",
   "name": "python3"
  },
  "language_info": {
   "codemirror_mode": {
    "name": "ipython",
    "version": 2
   },
   "file_extension": ".py",
   "mimetype": "text/x-python",
   "name": "python",
   "nbconvert_exporter": "python",
   "pygments_lexer": "ipython2",
   "version": "2.7.6"
  }
 },
 "nbformat": 4,
 "nbformat_minor": 0
}
