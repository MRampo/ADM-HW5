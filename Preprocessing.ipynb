{
 "cells": [
  {
   "cell_type": "code",
   "execution_count": 19,
   "metadata": {},
   "outputs": [],
   "source": [
    "import pandas as pd"
   ]
  },
  {
   "cell_type": "code",
   "execution_count": 20,
   "metadata": {},
   "outputs": [],
   "source": [
    "hn = pd.read_csv(\"hero-network.csv\")"
   ]
  },
  {
   "cell_type": "code",
   "execution_count": 21,
   "metadata": {},
   "outputs": [],
   "source": [
    "e = pd.read_csv(\"edges.csv\")"
   ]
  },
  {
   "cell_type": "code",
   "execution_count": 22,
   "metadata": {},
   "outputs": [],
   "source": [
    "nodes = pd.read_csv(\"nodes.csv\")"
   ]
  },
  {
   "cell_type": "code",
   "execution_count": 23,
   "metadata": {},
   "outputs": [],
   "source": [
    "import re\n",
    "\n",
    "def cleaning(string):\n",
    "    #Pattern for backlash in last position\n",
    "    pattern = \"\\/$\" \n",
    "    newS = re.sub(pattern, \"\", string)\n",
    "\n",
    "    #pattern for space in last position\n",
    "    pattern =  \" $\"\n",
    "    newS = re.sub(pattern, \"\", newS)\n",
    "    \n",
    "    return newS"
   ]
  },
  {
   "cell_type": "code",
   "execution_count": 24,
   "metadata": {},
   "outputs": [],
   "source": [
    "#Extract all the names from the edges\n",
    "vecHeroRight = e.hero.unique()\n",
    "cleanHeroRight = set(map(cleaning, vecHeroRight))\n",
    "\n",
    "#Extract all the names of the heroes that might be wrong (col hero1)\n",
    "vecHeroWrong = hn.hero1.unique()\n",
    "newVecHeroWrong = set(map(cleaning, vecHeroWrong))\n",
    "\n",
    "#Extract all the names of the heroes that might be wrong (col hero2)\n",
    "vecHeroWrong2 = hn.hero2.unique()\n",
    "newVecHeroWrong2 = set(map(cleaning, vecHeroWrong2))\n",
    "\n",
    "#Merge \n",
    "mergeHeroWrong = newVecHeroWrong.union(newVecHeroWrong2)"
   ]
  },
  {
   "cell_type": "markdown",
   "metadata": {},
   "source": [
    "Since the problem with the hero name string, is just a problem of string limits. All the wrong hero names should be contained in the right hero names.\n"
   ]
  },
  {
   "cell_type": "code",
   "execution_count": 25,
   "metadata": {},
   "outputs": [],
   "source": [
    "#TODO: convert into function\n",
    "\n",
    "dic = {}\n",
    "#Iterate over the wrong hero names\n",
    "for x in mergeHeroWrong:\n",
    "    \n",
    "    #Iterate over the right hero names\n",
    "    for y in cleanHeroRight:\n",
    "        dic[x] = x\n",
    "        if x in y:\n",
    "            dic[x] = y\n",
    "            break"
   ]
  },
  {
   "cell_type": "code",
   "execution_count": 26,
   "metadata": {},
   "outputs": [],
   "source": [
    "#Clean the values in both columns\n",
    "hn.hero1 = hn.hero1.apply(lambda row: cleaning(row))\n",
    "hn.hero2 = hn.hero2.apply(lambda row: cleaning(row))\n",
    "\n",
    "#Replace the wrong names with the right ones\n",
    "hn[\"hero1\"] = hn.hero1.apply(lambda row: dic[row])\n",
    "hn[\"hero2\"] = hn.hero2.apply(lambda row: dic[row])\n",
    "\n",
    "#Clean the values in nodes.node\n",
    "nodes.node =  nodes.node.apply(lambda row: cleaning(row))"
   ]
  },
  {
   "attachments": {},
   "cell_type": "markdown",
   "metadata": {},
   "source": [
    "### 2"
   ]
  },
  {
   "cell_type": "code",
   "execution_count": 31,
   "metadata": {},
   "outputs": [],
   "source": [
    "#remove duplicates rows from hero network\n",
    "hn_final = hn[hn.hero1 != hn.hero2]"
   ]
  }
 ],
 "metadata": {
  "kernelspec": {
   "display_name": "base",
   "language": "python",
   "name": "python3"
  },
  "language_info": {
   "codemirror_mode": {
    "name": "ipython",
    "version": 3
   },
   "file_extension": ".py",
   "mimetype": "text/x-python",
   "name": "python",
   "nbconvert_exporter": "python",
   "pygments_lexer": "ipython3",
   "version": "3.9.13 (main, Aug 25 2022, 23:51:50) [MSC v.1916 64 bit (AMD64)]"
  },
  "orig_nbformat": 4,
  "vscode": {
   "interpreter": {
    "hash": "673b3a28213e3c597c6fa49b945d6bcb4c24a69618c6cbd1a3b12a5f14d6b7d7"
   }
  }
 },
 "nbformat": 4,
 "nbformat_minor": 2
}
